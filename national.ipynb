{
 "cells": [
  {
   "cell_type": "markdown",
   "metadata": {},
   "source": [
    "# National Numbers\n",
    "A notebook to look at national numbers"
   ]
  },
  {
   "cell_type": "code",
   "execution_count": 130,
   "metadata": {},
   "outputs": [],
   "source": [
    "import pandas as pd\n",
    "import numpy as np\n",
    "import matplotlib.pyplot as plt\n",
    "import seaborn as sns"
   ]
  },
  {
   "cell_type": "code",
   "execution_count": 131,
   "metadata": {},
   "outputs": [],
   "source": [
    "try:\n",
    "    # read directly from NYT's github repo for the freshest data\n",
    "    states = pd.read_csv('https://raw.githubusercontent.com/nytimes/covid-19-data/master/us-states.csv')\n",
    "except:\n",
    "    # unless it's not available in which case read locally after pulling the repo from upstream\n",
    "    # (assumes you've added the NYT repo as upstream with \n",
    "    #     $ remote add upstream https://github.com/nytimes/covid-19-data.git)\n",
    "    !git pull upstream master\n",
    "    states = pd.read_csv('us-states.csv')"
   ]
  },
  {
   "cell_type": "code",
   "execution_count": 132,
   "metadata": {},
   "outputs": [
    {
     "data": {
      "text/html": [
       "<div>\n",
       "<style scoped>\n",
       "    .dataframe tbody tr th:only-of-type {\n",
       "        vertical-align: middle;\n",
       "    }\n",
       "\n",
       "    .dataframe tbody tr th {\n",
       "        vertical-align: top;\n",
       "    }\n",
       "\n",
       "    .dataframe thead th {\n",
       "        text-align: right;\n",
       "    }\n",
       "</style>\n",
       "<table border=\"1\" class=\"dataframe\">\n",
       "  <thead>\n",
       "    <tr style=\"text-align: right;\">\n",
       "      <th></th>\n",
       "      <th>cases</th>\n",
       "      <th>deaths</th>\n",
       "    </tr>\n",
       "    <tr>\n",
       "      <th>date</th>\n",
       "      <th></th>\n",
       "      <th></th>\n",
       "    </tr>\n",
       "  </thead>\n",
       "  <tbody>\n",
       "    <tr>\n",
       "      <th>2020-04-05</th>\n",
       "      <td>336774</td>\n",
       "      <td>9655</td>\n",
       "    </tr>\n",
       "    <tr>\n",
       "      <th>2020-04-06</th>\n",
       "      <td>366238</td>\n",
       "      <td>10959</td>\n",
       "    </tr>\n",
       "    <tr>\n",
       "      <th>2020-04-07</th>\n",
       "      <td>397754</td>\n",
       "      <td>12956</td>\n",
       "    </tr>\n",
       "    <tr>\n",
       "      <th>2020-04-08</th>\n",
       "      <td>429319</td>\n",
       "      <td>14827</td>\n",
       "    </tr>\n",
       "    <tr>\n",
       "      <th>2020-04-09</th>\n",
       "      <td>463684</td>\n",
       "      <td>16696</td>\n",
       "    </tr>\n",
       "  </tbody>\n",
       "</table>\n",
       "</div>"
      ],
      "text/plain": [
       "             cases  deaths\n",
       "date                      \n",
       "2020-04-05  336774    9655\n",
       "2020-04-06  366238   10959\n",
       "2020-04-07  397754   12956\n",
       "2020-04-08  429319   14827\n",
       "2020-04-09  463684   16696"
      ]
     },
     "execution_count": 132,
     "metadata": {},
     "output_type": "execute_result"
    }
   ],
   "source": [
    "national = states.groupby('date')[['cases','deaths']].sum()\n",
    "national.tail()"
   ]
  },
  {
   "cell_type": "code",
   "execution_count": 133,
   "metadata": {},
   "outputs": [],
   "source": [
    "# add a row with 0 cases at the top\n",
    "national = pd.concat([pd.DataFrame([{'date': '2020-01-20', 'cases': 0, 'deaths': 0}]),national.reset_index()],ignore_index=True)"
   ]
  },
  {
   "cell_type": "code",
   "execution_count": 134,
   "metadata": {},
   "outputs": [
    {
     "data": {
      "text/html": [
       "<div>\n",
       "<style scoped>\n",
       "    .dataframe tbody tr th:only-of-type {\n",
       "        vertical-align: middle;\n",
       "    }\n",
       "\n",
       "    .dataframe tbody tr th {\n",
       "        vertical-align: top;\n",
       "    }\n",
       "\n",
       "    .dataframe thead th {\n",
       "        text-align: right;\n",
       "    }\n",
       "</style>\n",
       "<table border=\"1\" class=\"dataframe\">\n",
       "  <thead>\n",
       "    <tr style=\"text-align: right;\">\n",
       "      <th></th>\n",
       "      <th>cases</th>\n",
       "      <th>deaths</th>\n",
       "      <th>new_cases</th>\n",
       "      <th>new_deaths</th>\n",
       "    </tr>\n",
       "    <tr>\n",
       "      <th>date</th>\n",
       "      <th></th>\n",
       "      <th></th>\n",
       "      <th></th>\n",
       "      <th></th>\n",
       "    </tr>\n",
       "  </thead>\n",
       "  <tbody>\n",
       "    <tr>\n",
       "      <th>2020-01-20</th>\n",
       "      <td>0</td>\n",
       "      <td>0</td>\n",
       "      <td>0.0</td>\n",
       "      <td>0.0</td>\n",
       "    </tr>\n",
       "    <tr>\n",
       "      <th>2020-01-21</th>\n",
       "      <td>1</td>\n",
       "      <td>0</td>\n",
       "      <td>1.0</td>\n",
       "      <td>0.0</td>\n",
       "    </tr>\n",
       "    <tr>\n",
       "      <th>2020-01-22</th>\n",
       "      <td>1</td>\n",
       "      <td>0</td>\n",
       "      <td>0.0</td>\n",
       "      <td>0.0</td>\n",
       "    </tr>\n",
       "    <tr>\n",
       "      <th>2020-01-23</th>\n",
       "      <td>1</td>\n",
       "      <td>0</td>\n",
       "      <td>0.0</td>\n",
       "      <td>0.0</td>\n",
       "    </tr>\n",
       "    <tr>\n",
       "      <th>2020-01-24</th>\n",
       "      <td>2</td>\n",
       "      <td>0</td>\n",
       "      <td>1.0</td>\n",
       "      <td>0.0</td>\n",
       "    </tr>\n",
       "  </tbody>\n",
       "</table>\n",
       "</div>"
      ],
      "text/plain": [
       "            cases  deaths  new_cases  new_deaths\n",
       "date                                            \n",
       "2020-01-20      0       0        0.0         0.0\n",
       "2020-01-21      1       0        1.0         0.0\n",
       "2020-01-22      1       0        0.0         0.0\n",
       "2020-01-23      1       0        0.0         0.0\n",
       "2020-01-24      2       0        1.0         0.0"
      ]
     },
     "execution_count": 134,
     "metadata": {},
     "output_type": "execute_result"
    }
   ],
   "source": [
    "# compute new cases and deaths\n",
    "national['new_cases'] = national['cases'] - national['cases'].shift(1)\n",
    "national['new_deaths'] = national['deaths'] - national['deaths'].shift(1)\n",
    "national.fillna(0,inplace=True)\n",
    "national.set_index('date',inplace=True)\n",
    "national.head()"
   ]
  },
  {
   "cell_type": "code",
   "execution_count": 135,
   "metadata": {},
   "outputs": [
    {
     "data": {
      "image/png": "[encoded data removed]",
      "text/plain": [
       "<Figure size 576x576 with 4 Axes>"
      ]
     },
     "metadata": {
      "needs_background": "light"
     },
     "output_type": "display_data"
    }
   ],
   "source": [
    "fig, ax = plt.subplots(2, 2, sharex='col',figsize=(8,8))\n",
    "national.new_cases.plot(title='New',ax=ax[0,0])\n",
    "ax[0,0].set_ylabel('Cases')\n",
    "national.cases.plot(title='Total',ax=ax[0,1])\n",
    "national.new_deaths.plot(ax=ax[1,0])\n",
    "ax[1,0].set_ylabel('Deaths')\n",
    "plt.setp(ax[1,0].xaxis.get_majorticklabels(), rotation=45)\n",
    "national.deaths.plot(ax=ax[1,1])\n",
    "plt.setp(ax[1,1].xaxis.get_majorticklabels(), rotation=45)\n",
    "fig.suptitle('COVID-19 Counts - US National', fontsize=14);"
   ]
  },
  {
   "cell_type": "markdown",
   "metadata": {},
   "source": [
    "## Estimate Doubling Rates\n",
    "In tracking the exponential growth phase we often hear of the *doubling rate*, i.e. the amount that it takes for the number of cases (or deaths) to double. COVID-19 is so viral that this time is measured in *days*."
   ]
  },
  {
   "cell_type": "code",
   "execution_count": 136,
   "metadata": {},
   "outputs": [],
   "source": [
    "# define a function that fits an exponential growth model to the input\n",
    "# and returns the doubling time\n",
    "\n",
    "def doubling_rate(y):\n",
    "    b,lna = np.polyfit(range(0,len(y)), np.log(y), 1)\n",
    "    return np.log(2)/b"
   ]
  },
  {
   "cell_type": "markdown",
   "metadata": {},
   "source": [
    "Now we can compare doubling rates based on any slice of the data:"
   ]
  },
  {
   "cell_type": "code",
   "execution_count": 137,
   "metadata": {},
   "outputs": [
    {
     "data": {
      "text/plain": [
       "3.86892365938089"
      ]
     },
     "execution_count": 137,
     "metadata": {},
     "output_type": "execute_result"
    }
   ],
   "source": [
    "doubling_rate(national.deaths[-14:])"
   ]
  },
  {
   "cell_type": "code",
   "execution_count": 138,
   "metadata": {},
   "outputs": [
    {
     "data": {
      "text/plain": [
       "5.316965508588987"
      ]
     },
     "execution_count": 138,
     "metadata": {},
     "output_type": "execute_result"
    }
   ],
   "source": [
    "doubling_rate(national.new_deaths[-14:])"
   ]
  },
  {
   "cell_type": "code",
   "execution_count": 139,
   "metadata": {},
   "outputs": [
    {
     "data": {
      "text/plain": [
       "6.026623697259936"
      ]
     },
     "execution_count": 139,
     "metadata": {},
     "output_type": "execute_result"
    }
   ],
   "source": [
    "doubling_rate(national.cases[-14:])"
   ]
  },
  {
   "cell_type": "code",
   "execution_count": 140,
   "metadata": {},
   "outputs": [
    {
     "data": {
      "text/plain": [
       "4.958434960354029"
      ]
     },
     "execution_count": 140,
     "metadata": {},
     "output_type": "execute_result"
    }
   ],
   "source": [
    "doubling_rate(national.deaths[-4:])"
   ]
  },
  {
   "cell_type": "markdown",
   "metadata": {},
   "source": [
    "Compute the doubling rate of US total deaths based ont the past 14 days of data and chart how that model compares to the actual data."
   ]
  },
  {
   "cell_type": "code",
   "execution_count": 141,
   "metadata": {},
   "outputs": [],
   "source": [
    "y = national.deaths[-14:]\n",
    "b,lna = np.polyfit(range(0,len(y)), np.log(y), 1)\n",
    "dr = np.log(2)/b\n",
    "x=range(0,14)\n",
    "y_pred = np.exp(lna)*np.exp(b*x)"
   ]
  },
  {
   "cell_type": "code",
   "execution_count": 142,
   "metadata": {},
   "outputs": [],
   "source": [
    "pred=pd.DataFrame(y.index)\n",
    "pred['y_pred'] = y_pred\n",
    "pred.set_index('date',inplace=True)\n",
    "tmp = national.join(pred,how='left')\n",
    "tmp = tmp.loc[tmp.deaths>=1]"
   ]
  },
  {
   "cell_type": "code",
   "execution_count": 143,
   "metadata": {},
   "outputs": [
    {
     "data": {
      "image/png": "[encoded data removed]",
      "text/plain": [
       "<Figure size 432x288 with 1 Axes>"
      ]
     },
     "metadata": {
      "needs_background": "light"
     },
     "output_type": "display_data"
    }
   ],
   "source": [
    "tmp.deaths.plot(title='US COVID Deaths',figsize=(6,4),label='actual',legend=True)\n",
    "tmp.y_pred.plot(label='{:4.2f} day doubling rate'.format(dr),legend=True)\n",
    "plt.xticks(rotation=45);"
   ]
  },
  {
   "cell_type": "markdown",
   "metadata": {},
   "source": [
    "## Fit Logistic Function to US National Data\n",
    "The virus cannot grow exponentially forever - at some time the number of deaths will plateau. We can model this slowdown as a logistic (sigmoid) function.\n",
    "\n",
    "The code below is based on [this example](https://ipython-books.github.io/93-fitting-a-function-to-data-with-nonlinear-least-squares/)"
   ]
  },
  {
   "cell_type": "code",
   "execution_count": 144,
   "metadata": {},
   "outputs": [],
   "source": [
    "import scipy.optimize as opt\n",
    "\n",
    "# define a logistic function with 4 parameters a,b,c,d\n",
    "def f(x, a, b, c, d):\n",
    "    return ( a / (1. + np.exp(-c * (x - d))) ) + b"
   ]
  },
  {
   "cell_type": "code",
   "execution_count": 145,
   "metadata": {},
   "outputs": [
    {
     "name": "stdout",
     "output_type": "stream",
     "text": [
      "29665.72563394151 -11.725442864911857 0.23451657473323334 79.01437297429865\n"
     ]
    },
    {
     "data": {
      "image/png": "[encoded data removed]",
      "text/plain": [
       "<Figure size 432x288 with 1 Axes>"
      ]
     },
     "metadata": {
      "needs_background": "light"
     },
     "output_type": "display_data"
    }
   ],
   "source": [
    "y = national.deaths\n",
    "x = range(0,len(y))\n",
    "(a, b, c, d), _ = opt.curve_fit(f, x, y,[20000,1,1,1])\n",
    "y_fit = f(x,a,b,c,d)\n",
    "print(a, b, c, d)\n",
    "fig, ax = plt.subplots(1, 1, figsize=(6, 4))\n",
    "ax.plot(x, y, 'o')\n",
    "ax.plot(x, y_fit, '-');"
   ]
  },
  {
   "cell_type": "markdown",
   "metadata": {},
   "source": [
    "Now use this model to project future deaths, let's go out to 180 days."
   ]
  },
  {
   "cell_type": "code",
   "execution_count": 146,
   "metadata": {},
   "outputs": [
    {
     "data": {
      "image/png": "[encoded data removed]",
      "text/plain": [
       "<Figure size 432x288 with 1 Axes>"
      ]
     },
     "metadata": {
      "needs_background": "light"
     },
     "output_type": "display_data"
    }
   ],
   "source": [
    "x_proj = range(0,180)\n",
    "y_proj = f(x_proj,a,b,c,d)\n",
    "fig, ax = plt.subplots(1, 1, figsize=(6, 4))\n",
    "ax.plot(x, y, 'o')\n",
    "ax.plot(x_proj, y_proj, '-');"
   ]
  },
  {
   "cell_type": "markdown",
   "metadata": {},
   "source": [
    "This is far lower than the [range of projections from healthdata.org](https://covid19.healthdata.org/projections). There must be tremendous variance in the parameters or this curve is just not appropriate. Or possibly healthdata.org is modeling each state separately then summing the estimates to arrive at the national curve. This would make sense in that the state are generally out of phase with each other."
   ]
  },
  {
   "cell_type": "code",
   "execution_count": 147,
   "metadata": {},
   "outputs": [
    {
     "name": "stdout",
     "output_type": "stream",
     "text": [
      "[[ 8.33039161e+05 -2.60296159e+03 -2.97513719e+00  2.30597872e+02]\n",
      " [-2.60296159e+03  1.27691005e+02  1.37098867e-02 -6.78191294e-01]\n",
      " [-2.97513719e+00  1.37098867e-02  1.25481339e-05 -8.43476755e-04]\n",
      " [ 2.30597872e+02 -6.78191294e-01 -8.43476755e-04  6.44493281e-02]]\n"
     ]
    }
   ],
   "source": [
    "# show the covariance of the parameters from the fit\n",
    "print(_)"
   ]
  }
 ],
 "metadata": {
  "kernelspec": {
   "display_name": "Python 3",
   "language": "python",
   "name": "python3"
  },
  "language_info": {
   "codemirror_mode": {
    "name": "ipython",
    "version": 3
   },
   "file_extension": ".py",
   "mimetype": "text/x-python",
   "name": "python",
   "nbconvert_exporter": "python",
   "pygments_lexer": "ipython3",
   "version": "3.6.10"
  }
 },
 "nbformat": 4,
 "nbformat_minor": 4
}
